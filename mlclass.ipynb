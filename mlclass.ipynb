{
 "cells": [
  {
   "cell_type": "code",
   "execution_count": 5,
   "id": "c4fc1377-57cb-471d-9f97-71cf7097f405",
   "metadata": {},
   "outputs": [],
   "source": [
    "import numpy as ny\n",
    "import pandas as pd\n",
    "import matplotlib.pyplot as plt\n",
    "import seaborn as sns\n"
   ]
  },
  {
   "cell_type": "code",
   "execution_count": 6,
   "id": "b4efbed8-3629-4259-9056-b4d9336cc62d",
   "metadata": {},
   "outputs": [],
   "source": [
    "version_one = pd.read_csv(\"genz.csv\")\n"
   ]
  },
  {
   "cell_type": "code",
   "execution_count": 7,
   "id": "6acb433c-b4ce-42cd-9446-c2ff6e2f2f70",
   "metadata": {},
   "outputs": [
    {
     "data": {
      "text/html": [
       "<div>\n",
       "<style scoped>\n",
       "    .dataframe tbody tr th:only-of-type {\n",
       "        vertical-align: middle;\n",
       "    }\n",
       "\n",
       "    .dataframe tbody tr th {\n",
       "        vertical-align: top;\n",
       "    }\n",
       "\n",
       "    .dataframe thead th {\n",
       "        text-align: right;\n",
       "    }\n",
       "</style>\n",
       "<table border=\"1\" class=\"dataframe\">\n",
       "  <thead>\n",
       "    <tr style=\"text-align: right;\">\n",
       "      <th></th>\n",
       "      <th>User_ID</th>\n",
       "      <th>Age</th>\n",
       "      <th>Gender</th>\n",
       "      <th>Location</th>\n",
       "      <th>Education</th>\n",
       "      <th>Occupation</th>\n",
       "      <th>Primary_App</th>\n",
       "      <th>Secondary_Apps</th>\n",
       "      <th>Usage_Frequency</th>\n",
       "      <th>Daily_Usage_Time</th>\n",
       "      <th>Reason_for_Using</th>\n",
       "      <th>Satisfaction</th>\n",
       "      <th>Challenges</th>\n",
       "      <th>Desired_Features</th>\n",
       "      <th>Preferred_Communication</th>\n",
       "      <th>Partner_Priorities</th>\n",
       "    </tr>\n",
       "  </thead>\n",
       "  <tbody>\n",
       "    <tr>\n",
       "      <th>0</th>\n",
       "      <td>1</td>\n",
       "      <td>20</td>\n",
       "      <td>Non-binary</td>\n",
       "      <td>Bangalore</td>\n",
       "      <td>Undergraduate</td>\n",
       "      <td>Freelancer</td>\n",
       "      <td>Hinge</td>\n",
       "      <td>Hinge</td>\n",
       "      <td>Monthly</td>\n",
       "      <td>1 hour</td>\n",
       "      <td>Finding a Partner</td>\n",
       "      <td>4</td>\n",
       "      <td>Safety Concerns</td>\n",
       "      <td>Audio Calls</td>\n",
       "      <td>Video Calls</td>\n",
       "      <td>Values &gt; Personality &gt; Appearance</td>\n",
       "    </tr>\n",
       "    <tr>\n",
       "      <th>1</th>\n",
       "      <td>2</td>\n",
       "      <td>24</td>\n",
       "      <td>Female</td>\n",
       "      <td>Delhi</td>\n",
       "      <td>Undergraduate</td>\n",
       "      <td>Part-time Job</td>\n",
       "      <td>Hinge</td>\n",
       "      <td>OkCupid</td>\n",
       "      <td>Weekly</td>\n",
       "      <td>30 minutes</td>\n",
       "      <td>Casual Dating</td>\n",
       "      <td>5</td>\n",
       "      <td>Time-Wasting</td>\n",
       "      <td>Video Calls</td>\n",
       "      <td>Text</td>\n",
       "      <td>Values &gt; Personality &gt; Appearance</td>\n",
       "    </tr>\n",
       "    <tr>\n",
       "      <th>2</th>\n",
       "      <td>3</td>\n",
       "      <td>24</td>\n",
       "      <td>Non-binary</td>\n",
       "      <td>Kolkata</td>\n",
       "      <td>Undergraduate</td>\n",
       "      <td>Intern</td>\n",
       "      <td>NaN</td>\n",
       "      <td>NaN</td>\n",
       "      <td>Weekly</td>\n",
       "      <td>2 hours</td>\n",
       "      <td>Casual Dating</td>\n",
       "      <td>4</td>\n",
       "      <td>Safety Concerns</td>\n",
       "      <td>Detailed Profiles</td>\n",
       "      <td>Text</td>\n",
       "      <td>Values &gt; Personality &gt; Appearance</td>\n",
       "    </tr>\n",
       "    <tr>\n",
       "      <th>3</th>\n",
       "      <td>4</td>\n",
       "      <td>22</td>\n",
       "      <td>Non-binary</td>\n",
       "      <td>Delhi</td>\n",
       "      <td>Graduate</td>\n",
       "      <td>Full-time Job</td>\n",
       "      <td>NaN</td>\n",
       "      <td>OkCupid</td>\n",
       "      <td>Daily</td>\n",
       "      <td>30 minutes</td>\n",
       "      <td>Casual Fun</td>\n",
       "      <td>3</td>\n",
       "      <td>NaN</td>\n",
       "      <td>AI Recommendations</td>\n",
       "      <td>Voice Notes</td>\n",
       "      <td>Personality &gt; Interests &gt; Values</td>\n",
       "    </tr>\n",
       "    <tr>\n",
       "      <th>4</th>\n",
       "      <td>5</td>\n",
       "      <td>18</td>\n",
       "      <td>Male</td>\n",
       "      <td>Delhi</td>\n",
       "      <td>Graduate</td>\n",
       "      <td>Intern</td>\n",
       "      <td>OkCupid</td>\n",
       "      <td>OkCupid</td>\n",
       "      <td>Weekly</td>\n",
       "      <td>2 hours</td>\n",
       "      <td>Casual Fun</td>\n",
       "      <td>4</td>\n",
       "      <td>Safety Concerns</td>\n",
       "      <td>Video Calls</td>\n",
       "      <td>Text</td>\n",
       "      <td>Appearance &gt; Interests &gt; Personality</td>\n",
       "    </tr>\n",
       "  </tbody>\n",
       "</table>\n",
       "</div>"
      ],
      "text/plain": [
       "   User_ID  Age      Gender   Location      Education     Occupation  \\\n",
       "0        1   20  Non-binary  Bangalore  Undergraduate     Freelancer   \n",
       "1        2   24      Female      Delhi  Undergraduate  Part-time Job   \n",
       "2        3   24  Non-binary    Kolkata  Undergraduate         Intern   \n",
       "3        4   22  Non-binary      Delhi       Graduate  Full-time Job   \n",
       "4        5   18        Male      Delhi       Graduate         Intern   \n",
       "\n",
       "  Primary_App Secondary_Apps Usage_Frequency Daily_Usage_Time  \\\n",
       "0       Hinge          Hinge         Monthly           1 hour   \n",
       "1       Hinge        OkCupid          Weekly       30 minutes   \n",
       "2         NaN            NaN          Weekly          2 hours   \n",
       "3         NaN        OkCupid           Daily       30 minutes   \n",
       "4     OkCupid        OkCupid          Weekly          2 hours   \n",
       "\n",
       "    Reason_for_Using  Satisfaction       Challenges    Desired_Features  \\\n",
       "0  Finding a Partner             4  Safety Concerns         Audio Calls   \n",
       "1      Casual Dating             5     Time-Wasting         Video Calls   \n",
       "2      Casual Dating             4  Safety Concerns   Detailed Profiles   \n",
       "3         Casual Fun             3              NaN  AI Recommendations   \n",
       "4         Casual Fun             4  Safety Concerns         Video Calls   \n",
       "\n",
       "  Preferred_Communication                    Partner_Priorities  \n",
       "0             Video Calls     Values > Personality > Appearance  \n",
       "1                    Text     Values > Personality > Appearance  \n",
       "2                    Text     Values > Personality > Appearance  \n",
       "3             Voice Notes      Personality > Interests > Values  \n",
       "4                    Text  Appearance > Interests > Personality  "
      ]
     },
     "execution_count": 7,
     "metadata": {},
     "output_type": "execute_result"
    }
   ],
   "source": [
    "version_one.head()"
   ]
  },
  {
   "cell_type": "code",
   "execution_count": 8,
   "id": "5070b549-45f0-48a5-b246-0d7da76a7cc2",
   "metadata": {},
   "outputs": [
    {
     "data": {
      "text/plain": [
       "User_ID                                                    1\n",
       "Age                                                       20\n",
       "Gender                                            Non-binary\n",
       "Location                                           Bangalore\n",
       "Education                                      Undergraduate\n",
       "Occupation                                        Freelancer\n",
       "Primary_App                                            Hinge\n",
       "Secondary_Apps                                         Hinge\n",
       "Usage_Frequency                                      Monthly\n",
       "Daily_Usage_Time                                      1 hour\n",
       "Reason_for_Using                           Finding a Partner\n",
       "Satisfaction                                               4\n",
       "Challenges                                   Safety Concerns\n",
       "Desired_Features                                 Audio Calls\n",
       "Preferred_Communication                          Video Calls\n",
       "Partner_Priorities         Values > Personality > Appearance\n",
       "Name: 0, dtype: object"
      ]
     },
     "execution_count": 8,
     "metadata": {},
     "output_type": "execute_result"
    }
   ],
   "source": [
    "version_one.iloc[0]"
   ]
  },
  {
   "cell_type": "code",
   "execution_count": 9,
   "id": "8f0cd516-04b2-4979-b983-8faf53a41e72",
   "metadata": {},
   "outputs": [
    {
     "ename": "TypeError",
     "evalue": "'DataFrame' object is not callable",
     "output_type": "error",
     "traceback": [
      "\u001b[1;31m---------------------------------------------------------------------------\u001b[0m",
      "\u001b[1;31mTypeError\u001b[0m                                 Traceback (most recent call last)",
      "Cell \u001b[1;32mIn[9], line 1\u001b[0m\n\u001b[1;32m----> 1\u001b[0m version_one (version_one\u001b[38;5;241m.\u001b[39misna()\u001b[38;5;241m.\u001b[39msum())\n",
      "\u001b[1;31mTypeError\u001b[0m: 'DataFrame' object is not callable"
     ]
    }
   ],
   "source": [
    "version_one (version_one.isna().sum())\n"
   ]
  },
  {
   "cell_type": "code",
   "execution_count": null,
   "id": "478b365a-724f-4536-85e1-68c8997ff86c",
   "metadata": {},
   "outputs": [],
   "source": [
    "version_one['Age'] = pd.to_numeric(version_one['Age'], errors='coerce')"
   ]
  },
  {
   "cell_type": "code",
   "execution_count": null,
   "id": "a030e649-4e27-4938-8a60-fe2da232b3bf",
   "metadata": {},
   "outputs": [
    {
     "name": "stdout",
     "output_type": "stream",
     "text": [
      "<class 'pandas.core.frame.DataFrame'>\n",
      "RangeIndex: 500 entries, 0 to 499\n",
      "Data columns (total 16 columns):\n",
      " #   Column                   Non-Null Count  Dtype \n",
      "---  ------                   --------------  ----- \n",
      " 0   User_ID                  500 non-null    int64 \n",
      " 1   Age                      500 non-null    int64 \n",
      " 2   Gender                   500 non-null    object\n",
      " 3   Location                 500 non-null    object\n",
      " 4   Education                500 non-null    object\n",
      " 5   Occupation               500 non-null    object\n",
      " 6   Primary_App              393 non-null    object\n",
      " 7   Secondary_Apps           386 non-null    object\n",
      " 8   Usage_Frequency          500 non-null    object\n",
      " 9   Daily_Usage_Time         500 non-null    object\n",
      " 10  Reason_for_Using         500 non-null    object\n",
      " 11  Satisfaction             500 non-null    int64 \n",
      " 12  Challenges               383 non-null    object\n",
      " 13  Desired_Features         500 non-null    object\n",
      " 14  Preferred_Communication  500 non-null    object\n",
      " 15  Partner_Priorities       500 non-null    object\n",
      "dtypes: int64(3), object(13)\n",
      "memory usage: 62.6+ KB\n"
     ]
    }
   ],
   "source": [
    "version_one.info()"
   ]
  },
  {
   "cell_type": "code",
   "execution_count": null,
   "id": "5019170c-afce-4190-bb24-97cfc2f8b9d0",
   "metadata": {},
   "outputs": [],
   "source": [
    "version_one['Partner_Priorities'] = version_one['Partner_Priorities'].astype(str)\n"
   ]
  },
  {
   "cell_type": "code",
   "execution_count": null,
   "id": "b7f79489-4b72-4b46-a156-1d86c65fc8c9",
   "metadata": {},
   "outputs": [
    {
     "name": "stdout",
     "output_type": "stream",
     "text": [
      "<class 'pandas.core.frame.DataFrame'>\n",
      "RangeIndex: 500 entries, 0 to 499\n",
      "Data columns (total 16 columns):\n",
      " #   Column                   Non-Null Count  Dtype \n",
      "---  ------                   --------------  ----- \n",
      " 0   User_ID                  500 non-null    int64 \n",
      " 1   Age                      500 non-null    int64 \n",
      " 2   Gender                   500 non-null    object\n",
      " 3   Location                 500 non-null    object\n",
      " 4   Education                500 non-null    object\n",
      " 5   Occupation               500 non-null    object\n",
      " 6   Primary_App              393 non-null    object\n",
      " 7   Secondary_Apps           386 non-null    object\n",
      " 8   Usage_Frequency          500 non-null    object\n",
      " 9   Daily_Usage_Time         500 non-null    object\n",
      " 10  Reason_for_Using         500 non-null    object\n",
      " 11  Satisfaction             500 non-null    int64 \n",
      " 12  Challenges               383 non-null    object\n",
      " 13  Desired_Features         500 non-null    object\n",
      " 14  Preferred_Communication  500 non-null    object\n",
      " 15  Partner_Priorities       500 non-null    object\n",
      "dtypes: int64(3), object(13)\n",
      "memory usage: 62.6+ KB\n"
     ]
    }
   ],
   "source": [
    "version_one.info()"
   ]
  },
  {
   "cell_type": "code",
   "execution_count": null,
   "id": "e60d18aa-b300-47fc-b4c0-d0e8eecedc0f",
   "metadata": {},
   "outputs": [],
   "source": [
    "version_one['Age'] = pd.to_numeric(version_one['Age'], errors='coerce')"
   ]
  },
  {
   "cell_type": "code",
   "execution_count": null,
   "id": "826d0cd3-0138-4fcf-9b4f-ce2e0ba94710",
   "metadata": {},
   "outputs": [
    {
     "name": "stdout",
     "output_type": "stream",
     "text": [
      "<class 'pandas.core.frame.DataFrame'>\n",
      "RangeIndex: 500 entries, 0 to 499\n",
      "Data columns (total 16 columns):\n",
      " #   Column                   Non-Null Count  Dtype \n",
      "---  ------                   --------------  ----- \n",
      " 0   User_ID                  500 non-null    int64 \n",
      " 1   Age                      500 non-null    int64 \n",
      " 2   Gender                   500 non-null    object\n",
      " 3   Location                 500 non-null    object\n",
      " 4   Education                500 non-null    object\n",
      " 5   Occupation               500 non-null    object\n",
      " 6   Primary_App              393 non-null    object\n",
      " 7   Secondary_Apps           386 non-null    object\n",
      " 8   Usage_Frequency          500 non-null    object\n",
      " 9   Daily_Usage_Time         500 non-null    object\n",
      " 10  Reason_for_Using         500 non-null    object\n",
      " 11  Satisfaction             500 non-null    int64 \n",
      " 12  Challenges               383 non-null    object\n",
      " 13  Desired_Features         500 non-null    object\n",
      " 14  Preferred_Communication  500 non-null    object\n",
      " 15  Partner_Priorities       500 non-null    object\n",
      "dtypes: int64(3), object(13)\n",
      "memory usage: 62.6+ KB\n"
     ]
    }
   ],
   "source": [
    "version_one.info()"
   ]
  },
  {
   "cell_type": "code",
   "execution_count": null,
   "id": "56386b93-8da1-4b7c-a323-e2800e0301ad",
   "metadata": {},
   "outputs": [
    {
     "name": "stdout",
     "output_type": "stream",
     "text": [
      "int64\n"
     ]
    }
   ],
   "source": [
    "print(version_one['Age'].dtype)\n"
   ]
  },
  {
   "cell_type": "code",
   "execution_count": null,
   "id": "e2ff0d9e-5359-48d6-b984-497697c5d5ac",
   "metadata": {},
   "outputs": [],
   "source": [
    "version_one['Age'] = version_one['Age'].astype(object)\n",
    "\n"
   ]
  },
  {
   "cell_type": "code",
   "execution_count": null,
   "id": "67ccf557-42fa-493f-85b4-59b0bee93d66",
   "metadata": {},
   "outputs": [],
   "source": [
    "version_one['Partner_Priorities'] = version_one['Partner_Priorities'].astype('category')"
   ]
  },
  {
   "cell_type": "code",
   "execution_count": null,
   "id": "5ef5bfd9-cae3-4771-bb0c-df90f26b0822",
   "metadata": {},
   "outputs": [
    {
     "name": "stdout",
     "output_type": "stream",
     "text": [
      "<class 'pandas.core.frame.DataFrame'>\n",
      "RangeIndex: 500 entries, 0 to 499\n",
      "Data columns (total 16 columns):\n",
      " #   Column                   Non-Null Count  Dtype   \n",
      "---  ------                   --------------  -----   \n",
      " 0   User_ID                  500 non-null    int64   \n",
      " 1   Age                      500 non-null    object  \n",
      " 2   Gender                   500 non-null    object  \n",
      " 3   Location                 500 non-null    object  \n",
      " 4   Education                500 non-null    object  \n",
      " 5   Occupation               500 non-null    object  \n",
      " 6   Primary_App              393 non-null    object  \n",
      " 7   Secondary_Apps           386 non-null    object  \n",
      " 8   Usage_Frequency          500 non-null    object  \n",
      " 9   Daily_Usage_Time         500 non-null    object  \n",
      " 10  Reason_for_Using         500 non-null    object  \n",
      " 11  Satisfaction             500 non-null    int64   \n",
      " 12  Challenges               383 non-null    object  \n",
      " 13  Desired_Features         500 non-null    object  \n",
      " 14  Preferred_Communication  500 non-null    object  \n",
      " 15  Partner_Priorities       500 non-null    category\n",
      "dtypes: category(1), int64(2), object(13)\n",
      "memory usage: 59.3+ KB\n"
     ]
    }
   ],
   "source": [
    "version_one.info()"
   ]
  },
  {
   "cell_type": "code",
   "execution_count": null,
   "id": "80900a99-7f72-47a7-8bcf-39d36e5a8508",
   "metadata": {},
   "outputs": [],
   "source": [
    "version_one['Age'] = version_one['Age'].astype('category')"
   ]
  },
  {
   "cell_type": "code",
   "execution_count": null,
   "id": "22e90b23-7440-4198-ae97-303b05cbaba1",
   "metadata": {},
   "outputs": [],
   "source": [
    "version_one['Gender'] = version_one['Gender'].astype('category')"
   ]
  },
  {
   "cell_type": "code",
   "execution_count": null,
   "id": "d2359c22-ad82-49c9-83ad-07646b83fcba",
   "metadata": {},
   "outputs": [
    {
     "name": "stdout",
     "output_type": "stream",
     "text": [
      "<class 'pandas.core.frame.DataFrame'>\n",
      "RangeIndex: 500 entries, 0 to 499\n",
      "Data columns (total 16 columns):\n",
      " #   Column                   Non-Null Count  Dtype   \n",
      "---  ------                   --------------  -----   \n",
      " 0   User_ID                  500 non-null    int64   \n",
      " 1   Age                      500 non-null    category\n",
      " 2   Gender                   500 non-null    category\n",
      " 3   Location                 500 non-null    object  \n",
      " 4   Education                500 non-null    object  \n",
      " 5   Occupation               500 non-null    object  \n",
      " 6   Primary_App              393 non-null    object  \n",
      " 7   Secondary_Apps           386 non-null    object  \n",
      " 8   Usage_Frequency          500 non-null    object  \n",
      " 9   Daily_Usage_Time         500 non-null    object  \n",
      " 10  Reason_for_Using         500 non-null    object  \n",
      " 11  Satisfaction             500 non-null    int64   \n",
      " 12  Challenges               383 non-null    object  \n",
      " 13  Desired_Features         500 non-null    object  \n",
      " 14  Preferred_Communication  500 non-null    object  \n",
      " 15  Partner_Priorities       500 non-null    category\n",
      "dtypes: category(3), int64(2), object(11)\n",
      "memory usage: 53.0+ KB\n"
     ]
    }
   ],
   "source": [
    "version_one.info()"
   ]
  },
  {
   "cell_type": "code",
   "execution_count": null,
   "id": "11be9c3d-0f9a-4458-8548-a83d152aa036",
   "metadata": {},
   "outputs": [],
   "source": [
    "version_one['Age'] = version_one['Age'].astype('str')"
   ]
  },
  {
   "cell_type": "code",
   "execution_count": null,
   "id": "53d8682f-747f-402d-a3f8-bae14e4ba02b",
   "metadata": {},
   "outputs": [
    {
     "name": "stdout",
     "output_type": "stream",
     "text": [
      "<class 'pandas.core.frame.DataFrame'>\n",
      "RangeIndex: 500 entries, 0 to 499\n",
      "Data columns (total 16 columns):\n",
      " #   Column                   Non-Null Count  Dtype   \n",
      "---  ------                   --------------  -----   \n",
      " 0   User_ID                  500 non-null    int64   \n",
      " 1   Age                      500 non-null    object  \n",
      " 2   Gender                   500 non-null    category\n",
      " 3   Location                 500 non-null    object  \n",
      " 4   Education                500 non-null    object  \n",
      " 5   Occupation               500 non-null    object  \n",
      " 6   Primary_App              393 non-null    object  \n",
      " 7   Secondary_Apps           386 non-null    object  \n",
      " 8   Usage_Frequency          500 non-null    object  \n",
      " 9   Daily_Usage_Time         500 non-null    object  \n",
      " 10  Reason_for_Using         500 non-null    object  \n",
      " 11  Satisfaction             500 non-null    int64   \n",
      " 12  Challenges               383 non-null    object  \n",
      " 13  Desired_Features         500 non-null    object  \n",
      " 14  Preferred_Communication  500 non-null    object  \n",
      " 15  Partner_Priorities       500 non-null    category\n",
      "dtypes: category(2), int64(2), object(12)\n",
      "memory usage: 56.1+ KB\n"
     ]
    }
   ],
   "source": [
    "version_one.info()"
   ]
  },
  {
   "cell_type": "code",
   "execution_count": null,
   "id": "2f177930-b21c-4493-b0c7-26ce21b779c7",
   "metadata": {},
   "outputs": [],
   "source": [
    "version_one = version_one.copy()"
   ]
  },
  {
   "cell_type": "code",
   "execution_count": null,
   "id": "10d9e8ba-bbd1-451a-91b4-eed225259cc3",
   "metadata": {},
   "outputs": [
    {
     "name": "stdout",
     "output_type": "stream",
     "text": [
      "<class 'pandas.core.frame.DataFrame'>\n",
      "RangeIndex: 500 entries, 0 to 499\n",
      "Data columns (total 16 columns):\n",
      " #   Column                   Non-Null Count  Dtype   \n",
      "---  ------                   --------------  -----   \n",
      " 0   User_ID                  500 non-null    int64   \n",
      " 1   Age                      500 non-null    object  \n",
      " 2   Gender                   500 non-null    category\n",
      " 3   Location                 500 non-null    object  \n",
      " 4   Education                500 non-null    object  \n",
      " 5   Occupation               500 non-null    object  \n",
      " 6   Primary_App              393 non-null    object  \n",
      " 7   Secondary_Apps           386 non-null    object  \n",
      " 8   Usage_Frequency          500 non-null    object  \n",
      " 9   Daily_Usage_Time         500 non-null    object  \n",
      " 10  Reason_for_Using         500 non-null    object  \n",
      " 11  Satisfaction             500 non-null    int64   \n",
      " 12  Challenges               383 non-null    object  \n",
      " 13  Desired_Features         500 non-null    object  \n",
      " 14  Preferred_Communication  500 non-null    object  \n",
      " 15  Partner_Priorities       500 non-null    category\n",
      "dtypes: category(2), int64(2), object(12)\n",
      "memory usage: 56.1+ KB\n"
     ]
    }
   ],
   "source": [
    "version_one.info()"
   ]
  },
  {
   "cell_type": "code",
   "execution_count": null,
   "id": "dd05909a-a2a2-45fe-9459-18d3a08918ee",
   "metadata": {},
   "outputs": [],
   "source": [
    "version_one['Age'] = version_one['Age'].astype('int')"
   ]
  },
  {
   "cell_type": "code",
   "execution_count": null,
   "id": "2b7b044a-b5dd-41a5-b6a7-d6b79bbfac92",
   "metadata": {},
   "outputs": [
    {
     "name": "stdout",
     "output_type": "stream",
     "text": [
      "<class 'pandas.core.frame.DataFrame'>\n",
      "RangeIndex: 500 entries, 0 to 499\n",
      "Data columns (total 16 columns):\n",
      " #   Column                   Non-Null Count  Dtype   \n",
      "---  ------                   --------------  -----   \n",
      " 0   User_ID                  500 non-null    int64   \n",
      " 1   Age                      500 non-null    int64   \n",
      " 2   Gender                   500 non-null    category\n",
      " 3   Location                 500 non-null    object  \n",
      " 4   Education                500 non-null    object  \n",
      " 5   Occupation               500 non-null    object  \n",
      " 6   Primary_App              393 non-null    object  \n",
      " 7   Secondary_Apps           386 non-null    object  \n",
      " 8   Usage_Frequency          500 non-null    object  \n",
      " 9   Daily_Usage_Time         500 non-null    object  \n",
      " 10  Reason_for_Using         500 non-null    object  \n",
      " 11  Satisfaction             500 non-null    int64   \n",
      " 12  Challenges               383 non-null    object  \n",
      " 13  Desired_Features         500 non-null    object  \n",
      " 14  Preferred_Communication  500 non-null    object  \n",
      " 15  Partner_Priorities       500 non-null    category\n",
      "dtypes: category(2), int64(3), object(11)\n",
      "memory usage: 56.1+ KB\n"
     ]
    }
   ],
   "source": [
    "version_one.info()"
   ]
  },
  {
   "cell_type": "code",
   "execution_count": null,
   "id": "729ef4e4-0b84-4562-a8cd-c0b2bd83c0db",
   "metadata": {},
   "outputs": [],
   "source": [
    "version_one['Occupation'] = version_one['Occupation'].astype('category')"
   ]
  },
  {
   "cell_type": "code",
   "execution_count": null,
   "id": "c6d4f250-2764-4b4a-b3cb-0d6aa6407347",
   "metadata": {},
   "outputs": [
    {
     "name": "stdout",
     "output_type": "stream",
     "text": [
      "<class 'pandas.core.frame.DataFrame'>\n",
      "RangeIndex: 500 entries, 0 to 499\n",
      "Data columns (total 16 columns):\n",
      " #   Column                   Non-Null Count  Dtype   \n",
      "---  ------                   --------------  -----   \n",
      " 0   User_ID                  500 non-null    int64   \n",
      " 1   Age                      500 non-null    int64   \n",
      " 2   Gender                   500 non-null    category\n",
      " 3   Location                 500 non-null    object  \n",
      " 4   Education                500 non-null    object  \n",
      " 5   Occupation               500 non-null    category\n",
      " 6   Primary_App              393 non-null    object  \n",
      " 7   Secondary_Apps           386 non-null    object  \n",
      " 8   Usage_Frequency          500 non-null    object  \n",
      " 9   Daily_Usage_Time         500 non-null    object  \n",
      " 10  Reason_for_Using         500 non-null    object  \n",
      " 11  Satisfaction             500 non-null    int64   \n",
      " 12  Challenges               383 non-null    object  \n",
      " 13  Desired_Features         500 non-null    object  \n",
      " 14  Preferred_Communication  500 non-null    object  \n",
      " 15  Partner_Priorities       500 non-null    category\n",
      "dtypes: category(3), int64(3), object(10)\n",
      "memory usage: 52.8+ KB\n"
     ]
    }
   ],
   "source": [
    "version_one.info()"
   ]
  },
  {
   "cell_type": "code",
   "execution_count": null,
   "id": "2dc760d4-a987-4dd5-be1d-1838c2222f10",
   "metadata": {},
   "outputs": [],
   "source": [
    "version_one[version_one.select_dtypes(include='object').columns] = version_one.select_dtypes(include='object').astype('category')"
   ]
  },
  {
   "cell_type": "code",
   "execution_count": null,
   "id": "b443ab0d-9190-452b-86d1-f2c3708eee19",
   "metadata": {},
   "outputs": [
    {
     "name": "stdout",
     "output_type": "stream",
     "text": [
      "<class 'pandas.core.frame.DataFrame'>\n",
      "RangeIndex: 500 entries, 0 to 499\n",
      "Data columns (total 16 columns):\n",
      " #   Column                   Non-Null Count  Dtype   \n",
      "---  ------                   --------------  -----   \n",
      " 0   User_ID                  500 non-null    int64   \n",
      " 1   Age                      500 non-null    int64   \n",
      " 2   Gender                   500 non-null    category\n",
      " 3   Location                 500 non-null    category\n",
      " 4   Education                500 non-null    category\n",
      " 5   Occupation               500 non-null    category\n",
      " 6   Primary_App              393 non-null    category\n",
      " 7   Secondary_Apps           386 non-null    category\n",
      " 8   Usage_Frequency          500 non-null    category\n",
      " 9   Daily_Usage_Time         500 non-null    category\n",
      " 10  Reason_for_Using         500 non-null    category\n",
      " 11  Satisfaction             500 non-null    int64   \n",
      " 12  Challenges               383 non-null    category\n",
      " 13  Desired_Features         500 non-null    category\n",
      " 14  Preferred_Communication  500 non-null    category\n",
      " 15  Partner_Priorities       500 non-null    category\n",
      "dtypes: category(13), int64(3)\n",
      "memory usage: 20.5 KB\n"
     ]
    }
   ],
   "source": [
    "version_one.info()"
   ]
  },
  {
   "cell_type": "code",
   "execution_count": null,
   "id": "2c424ee3-9424-44d5-a410-4cc917f4037b",
   "metadata": {},
   "outputs": [],
   "source": [
    "version_one['Age'] = version_one['Age'].astype('int')"
   ]
  },
  {
   "cell_type": "code",
   "execution_count": null,
   "id": "de309b81-a06f-4379-a723-f180ee113e3f",
   "metadata": {},
   "outputs": [],
   "source": [
    "version_one['Age'] = version_one['Age'].astype('int')"
   ]
  },
  {
   "cell_type": "code",
   "execution_count": null,
   "id": "140efd00-6b57-424d-99e0-d4d8ca113041",
   "metadata": {},
   "outputs": [
    {
     "name": "stdout",
     "output_type": "stream",
     "text": [
      "<class 'pandas.core.frame.DataFrame'>\n",
      "RangeIndex: 500 entries, 0 to 499\n",
      "Data columns (total 16 columns):\n",
      " #   Column                   Non-Null Count  Dtype   \n",
      "---  ------                   --------------  -----   \n",
      " 0   User_ID                  500 non-null    int64   \n",
      " 1   Age                      500 non-null    int64   \n",
      " 2   Gender                   500 non-null    category\n",
      " 3   Location                 500 non-null    category\n",
      " 4   Education                500 non-null    category\n",
      " 5   Occupation               500 non-null    category\n",
      " 6   Primary_App              393 non-null    category\n",
      " 7   Secondary_Apps           386 non-null    category\n",
      " 8   Usage_Frequency          500 non-null    category\n",
      " 9   Daily_Usage_Time         500 non-null    category\n",
      " 10  Reason_for_Using         500 non-null    category\n",
      " 11  Satisfaction             500 non-null    int64   \n",
      " 12  Challenges               383 non-null    category\n",
      " 13  Desired_Features         500 non-null    category\n",
      " 14  Preferred_Communication  500 non-null    category\n",
      " 15  Partner_Priorities       500 non-null    category\n",
      "dtypes: category(13), int64(3)\n",
      "memory usage: 20.5 KB\n"
     ]
    }
   ],
   "source": [
    "version_one.info()"
   ]
  },
  {
   "cell_type": "code",
   "execution_count": null,
   "id": "48c48183-0eb5-401b-ac9a-f4c90abfee29",
   "metadata": {},
   "outputs": [],
   "source": [
    "version_one['Satisfaction'] = version_one['Satisfaction'].astype('category')"
   ]
  },
  {
   "cell_type": "code",
   "execution_count": null,
   "id": "42ef7ead-7bf2-4975-8e28-50652844af10",
   "metadata": {},
   "outputs": [
    {
     "name": "stdout",
     "output_type": "stream",
     "text": [
      "<class 'pandas.core.frame.DataFrame'>\n",
      "RangeIndex: 500 entries, 0 to 499\n",
      "Data columns (total 16 columns):\n",
      " #   Column                   Non-Null Count  Dtype   \n",
      "---  ------                   --------------  -----   \n",
      " 0   User_ID                  500 non-null    int64   \n",
      " 1   Age                      500 non-null    int64   \n",
      " 2   Gender                   500 non-null    category\n",
      " 3   Location                 500 non-null    category\n",
      " 4   Education                500 non-null    category\n",
      " 5   Occupation               500 non-null    category\n",
      " 6   Primary_App              393 non-null    category\n",
      " 7   Secondary_Apps           386 non-null    category\n",
      " 8   Usage_Frequency          500 non-null    category\n",
      " 9   Daily_Usage_Time         500 non-null    category\n",
      " 10  Reason_for_Using         500 non-null    category\n",
      " 11  Satisfaction             500 non-null    category\n",
      " 12  Challenges               383 non-null    category\n",
      " 13  Desired_Features         500 non-null    category\n",
      " 14  Preferred_Communication  500 non-null    category\n",
      " 15  Partner_Priorities       500 non-null    category\n",
      "dtypes: category(14), int64(2)\n",
      "memory usage: 17.3 KB\n"
     ]
    }
   ],
   "source": [
    "version_one.info()"
   ]
  },
  {
   "cell_type": "code",
   "execution_count": null,
   "id": "2c2081cc-4643-4ab5-a171-4003d45058f3",
   "metadata": {},
   "outputs": [
    {
     "name": "stdout",
     "output_type": "stream",
     "text": [
      "User_ID                      0\n",
      "Age                          0\n",
      "Gender                       0\n",
      "Location                     0\n",
      "Education                    0\n",
      "Occupation                   0\n",
      "Primary_App                107\n",
      "Secondary_Apps             114\n",
      "Usage_Frequency              0\n",
      "Daily_Usage_Time             0\n",
      "Reason_for_Using             0\n",
      "Satisfaction                 0\n",
      "Challenges                 117\n",
      "Desired_Features             0\n",
      "Preferred_Communication      0\n",
      "Partner_Priorities           0\n",
      "dtype: int64\n"
     ]
    }
   ],
   "source": [
    "print(version_one.isnull().sum())"
   ]
  },
  {
   "cell_type": "code",
   "execution_count": null,
   "id": "e23e7023-3d55-47ac-8bc4-2f84b23ee03d",
   "metadata": {},
   "outputs": [
    {
     "name": "stdout",
     "output_type": "stream",
     "text": [
      "     User_ID    Age  Gender  Location  Education  Occupation  Primary_App  \\\n",
      "0      False  False   False     False      False       False        False   \n",
      "1      False  False   False     False      False       False        False   \n",
      "2      False  False   False     False      False       False         True   \n",
      "3      False  False   False     False      False       False         True   \n",
      "4      False  False   False     False      False       False        False   \n",
      "..       ...    ...     ...       ...        ...         ...          ...   \n",
      "495    False  False   False     False      False       False        False   \n",
      "496    False  False   False     False      False       False        False   \n",
      "497    False  False   False     False      False       False         True   \n",
      "498    False  False   False     False      False       False        False   \n",
      "499    False  False   False     False      False       False         True   \n",
      "\n",
      "     Secondary_Apps  Usage_Frequency  Daily_Usage_Time  Reason_for_Using  \\\n",
      "0             False            False             False             False   \n",
      "1             False            False             False             False   \n",
      "2              True            False             False             False   \n",
      "3             False            False             False             False   \n",
      "4             False            False             False             False   \n",
      "..              ...              ...               ...               ...   \n",
      "495           False            False             False             False   \n",
      "496           False            False             False             False   \n",
      "497           False            False             False             False   \n",
      "498           False            False             False             False   \n",
      "499           False            False             False             False   \n",
      "\n",
      "     Satisfaction  Challenges  Desired_Features  Preferred_Communication  \\\n",
      "0           False       False             False                    False   \n",
      "1           False       False             False                    False   \n",
      "2           False       False             False                    False   \n",
      "3           False        True             False                    False   \n",
      "4           False       False             False                    False   \n",
      "..            ...         ...               ...                      ...   \n",
      "495         False        True             False                    False   \n",
      "496         False       False             False                    False   \n",
      "497         False       False             False                    False   \n",
      "498         False       False             False                    False   \n",
      "499         False       False             False                    False   \n",
      "\n",
      "     Partner_Priorities  \n",
      "0                 False  \n",
      "1                 False  \n",
      "2                 False  \n",
      "3                 False  \n",
      "4                 False  \n",
      "..                  ...  \n",
      "495               False  \n",
      "496               False  \n",
      "497               False  \n",
      "498               False  \n",
      "499               False  \n",
      "\n",
      "[500 rows x 16 columns]\n"
     ]
    }
   ],
   "source": [
    "print(version_one.isnull())"
   ]
  },
  {
   "cell_type": "code",
   "execution_count": null,
   "id": "1619f4a9-9dd9-4b4e-a46f-a160f36341d4",
   "metadata": {},
   "outputs": [],
   "source": [
    "version_one['Primary_App'] = version_one['Primary_App'].fillna(version_one['Primary_App'].mode())"
   ]
  },
  {
   "cell_type": "code",
   "execution_count": null,
   "id": "c9056ae4-0ccd-4fb7-9173-429e77d07655",
   "metadata": {},
   "outputs": [
    {
     "name": "stdout",
     "output_type": "stream",
     "text": [
      "User_ID                      0\n",
      "Age                          0\n",
      "Gender                       0\n",
      "Location                     0\n",
      "Education                    0\n",
      "Occupation                   0\n",
      "Primary_App                107\n",
      "Secondary_Apps             114\n",
      "Usage_Frequency              0\n",
      "Daily_Usage_Time             0\n",
      "Reason_for_Using             0\n",
      "Satisfaction                 0\n",
      "Challenges                 117\n",
      "Desired_Features             0\n",
      "Preferred_Communication      0\n",
      "Partner_Priorities           0\n",
      "dtype: int64\n"
     ]
    }
   ],
   "source": [
    "print(version_one.isnull().sum())"
   ]
  },
  {
   "cell_type": "code",
   "execution_count": null,
   "id": "e648115b-0e60-4ca2-99ec-32d70df8f7f8",
   "metadata": {},
   "outputs": [],
   "source": [
    "version_one['Primary_App'] = version_one['Primary_App'].fillna(version_one['Primary_App'].mode())"
   ]
  },
  {
   "cell_type": "code",
   "execution_count": null,
   "id": "1caac316-e3d9-4d73-b6f9-38db61411f40",
   "metadata": {},
   "outputs": [
    {
     "name": "stdout",
     "output_type": "stream",
     "text": [
      "User_ID                      0\n",
      "Age                          0\n",
      "Gender                       0\n",
      "Location                     0\n",
      "Education                    0\n",
      "Occupation                   0\n",
      "Primary_App                107\n",
      "Secondary_Apps             114\n",
      "Usage_Frequency              0\n",
      "Daily_Usage_Time             0\n",
      "Reason_for_Using             0\n",
      "Satisfaction                 0\n",
      "Challenges                 117\n",
      "Desired_Features             0\n",
      "Preferred_Communication      0\n",
      "Partner_Priorities           0\n",
      "dtype: int64\n"
     ]
    }
   ],
   "source": [
    "print(version_one.isnull().sum())"
   ]
  },
  {
   "cell_type": "code",
   "execution_count": null,
   "id": "1bd4bcf1-b338-427c-a5fe-4914bd364bd3",
   "metadata": {},
   "outputs": [
    {
     "name": "stdout",
     "output_type": "stream",
     "text": [
      "User_ID                      0\n",
      "Age                          0\n",
      "Gender                       0\n",
      "Location                     0\n",
      "Education                    0\n",
      "Occupation                   0\n",
      "Primary_App                107\n",
      "Secondary_Apps             114\n",
      "Usage_Frequency              0\n",
      "Daily_Usage_Time             0\n",
      "Reason_for_Using             0\n",
      "Satisfaction                 0\n",
      "Challenges                 117\n",
      "Desired_Features             0\n",
      "Preferred_Communication      0\n",
      "Partner_Priorities           0\n",
      "dtype: int64\n"
     ]
    }
   ],
   "source": [
    "print(version_one.isnull().sum())"
   ]
  },
  {
   "cell_type": "code",
   "execution_count": null,
   "id": "0a643e9a-a02f-4afe-84e5-3b5f0baa62a6",
   "metadata": {},
   "outputs": [],
   "source": [
    "version_one['Primary_App'] = version_one['Primary_App'].fillna(version_one['Primary_App'].mode()[0])"
   ]
  },
  {
   "cell_type": "code",
   "execution_count": null,
   "id": "6fc108fe-0de8-4330-9a57-08f1f956d6ef",
   "metadata": {},
   "outputs": [
    {
     "name": "stdout",
     "output_type": "stream",
     "text": [
      "User_ID                      0\n",
      "Age                          0\n",
      "Gender                       0\n",
      "Location                     0\n",
      "Education                    0\n",
      "Occupation                   0\n",
      "Primary_App                  0\n",
      "Secondary_Apps             114\n",
      "Usage_Frequency              0\n",
      "Daily_Usage_Time             0\n",
      "Reason_for_Using             0\n",
      "Satisfaction                 0\n",
      "Challenges                 117\n",
      "Desired_Features             0\n",
      "Preferred_Communication      0\n",
      "Partner_Priorities           0\n",
      "dtype: int64\n"
     ]
    }
   ],
   "source": [
    "print(version_one.isnull().sum())"
   ]
  },
  {
   "cell_type": "code",
   "execution_count": null,
   "id": "ab7482f0-5b34-4c1c-9fc4-7ddd360bcc06",
   "metadata": {},
   "outputs": [],
   "source": [
    "version_one['Secondary_Apps'] = version_one['Secondary_Apps'].fillna(version_one['Secondary_Apps'].mode()[0])"
   ]
  },
  {
   "cell_type": "code",
   "execution_count": null,
   "id": "e72da72f-15f6-4ecd-893a-d9fdf8d350dc",
   "metadata": {},
   "outputs": [],
   "source": [
    "version_one['Challenges'] = version_one['Challenges'].fillna(version_one['Challenges'].mode()[0])"
   ]
  },
  {
   "cell_type": "code",
   "execution_count": null,
   "id": "6783cd48-c36c-4419-b6db-ead54d00dc43",
   "metadata": {},
   "outputs": [
    {
     "name": "stdout",
     "output_type": "stream",
     "text": [
      "User_ID                    0\n",
      "Age                        0\n",
      "Gender                     0\n",
      "Location                   0\n",
      "Education                  0\n",
      "Occupation                 0\n",
      "Primary_App                0\n",
      "Secondary_Apps             0\n",
      "Usage_Frequency            0\n",
      "Daily_Usage_Time           0\n",
      "Reason_for_Using           0\n",
      "Satisfaction               0\n",
      "Challenges                 0\n",
      "Desired_Features           0\n",
      "Preferred_Communication    0\n",
      "Partner_Priorities         0\n",
      "dtype: int64\n"
     ]
    }
   ],
   "source": [
    "print(version_one.isnull().sum())"
   ]
  },
  {
   "cell_type": "code",
   "execution_count": null,
   "id": "03eaa22b-90d3-426d-8b49-a0ed10e575f3",
   "metadata": {},
   "outputs": [
    {
     "name": "stdout",
     "output_type": "stream",
     "text": [
      "User_ID                    0\n",
      "Age                        0\n",
      "Gender                     0\n",
      "Location                   0\n",
      "Education                  0\n",
      "Occupation                 0\n",
      "Primary_App                0\n",
      "Secondary_Apps             0\n",
      "Usage_Frequency            0\n",
      "Daily_Usage_Time           0\n",
      "Reason_for_Using           0\n",
      "Satisfaction               0\n",
      "Challenges                 0\n",
      "Desired_Features           0\n",
      "Preferred_Communication    0\n",
      "Partner_Priorities         0\n",
      "dtype: int64\n"
     ]
    }
   ],
   "source": [
    "print(version_one.isnull().sum())"
   ]
  },
  {
   "cell_type": "code",
   "execution_count": null,
   "id": "ec664fee-df75-498f-9221-ae441d2c3e75",
   "metadata": {},
   "outputs": [
    {
     "name": "stdout",
     "output_type": "stream",
     "text": [
      "User_ID                    0\n",
      "Age                        0\n",
      "Gender                     0\n",
      "Location                   0\n",
      "Education                  0\n",
      "Occupation                 0\n",
      "Primary_App                0\n",
      "Secondary_Apps             0\n",
      "Usage_Frequency            0\n",
      "Daily_Usage_Time           0\n",
      "Reason_for_Using           0\n",
      "Satisfaction               0\n",
      "Challenges                 0\n",
      "Desired_Features           0\n",
      "Preferred_Communication    0\n",
      "Partner_Priorities         0\n",
      "dtype: int64\n"
     ]
    }
   ],
   "source": [
    "print(version_one.isnull().sum())"
   ]
  },
  {
   "cell_type": "code",
   "execution_count": null,
   "id": "eb8d614e-2bbd-4feb-90f5-e5bbed7f7756",
   "metadata": {},
   "outputs": [
    {
     "data": {
      "text/plain": [
       "count    500.000000\n",
       "mean      21.582000\n",
       "std        2.259532\n",
       "min       18.000000\n",
       "25%       20.000000\n",
       "50%       22.000000\n",
       "75%       24.000000\n",
       "max       25.000000\n",
       "Name: Age, dtype: float64"
      ]
     },
     "execution_count": 128,
     "metadata": {},
     "output_type": "execute_result"
    }
   ],
   "source": [
    "version_one[\"Age\"].describe()"
   ]
  },
  {
   "cell_type": "code",
   "execution_count": null,
   "id": "f1f3bb37-407e-407a-9412-f43b4aa82444",
   "metadata": {},
   "outputs": [
    {
     "name": "stdout",
     "output_type": "stream",
     "text": [
      "Number of duplicate rows: 0\n"
     ]
    }
   ],
   "source": [
    "duplicates = version_one.duplicated()\n",
    "print(f\"Number of duplicate rows: {duplicates.sum()}\")\n"
   ]
  },
  {
   "cell_type": "code",
   "execution_count": null,
   "id": "f16c1830-4b58-4ecf-879a-c889c0720024",
   "metadata": {},
   "outputs": [
    {
     "name": "stdout",
     "output_type": "stream",
     "text": [
      "Missing values per column:\n",
      " User_ID                    0\n",
      "Age                        0\n",
      "Gender                     0\n",
      "Location                   0\n",
      "Education                  0\n",
      "Occupation                 0\n",
      "Primary_App                0\n",
      "Secondary_Apps             0\n",
      "Usage_Frequency            0\n",
      "Daily_Usage_Time           0\n",
      "Reason_for_Using           0\n",
      "Satisfaction               0\n",
      "Challenges                 0\n",
      "Desired_Features           0\n",
      "Preferred_Communication    0\n",
      "Partner_Priorities         0\n",
      "dtype: int64\n"
     ]
    }
   ],
   "source": [
    "missing_values = version_one.isnull().sum()\n",
    "print(\"Missing values per column:\\n\", missing_values)\n"
   ]
  },
  {
   "cell_type": "code",
   "execution_count": null,
   "id": "311a1be6-1933-49aa-8157-3aa45bb024a0",
   "metadata": {},
   "outputs": [
    {
     "name": "stdout",
     "output_type": "stream",
     "text": [
      "     User_ID  Age      Gender   Location      Education     Occupation  \\\n",
      "0          1   20  non-binary  Bangalore  Undergraduate     Freelancer   \n",
      "1          2   24      female      Delhi  Undergraduate  Part-time Job   \n",
      "2          3   24  non-binary    Kolkata  Undergraduate         Intern   \n",
      "3          4   22  non-binary      Delhi       Graduate  Full-time Job   \n",
      "4          5   18        male      Delhi       Graduate         Intern   \n",
      "..       ...  ...         ...        ...            ...            ...   \n",
      "495      496   23      female     Mumbai  Undergraduate         Intern   \n",
      "496      497   23        male     Mumbai   Postgraduate         Intern   \n",
      "497      498   22        male  Hyderabad       Graduate     Freelancer   \n",
      "498      499   21      female    Kolkata       Graduate        Student   \n",
      "499      500   22        male     Mumbai       Graduate  Part-time Job   \n",
      "\n",
      "    Primary_App Secondary_Apps Usage_Frequency Daily_Usage_Time  \\\n",
      "0         Hinge          Hinge         Monthly           1 hour   \n",
      "1         Hinge        OkCupid          Weekly       30 minutes   \n",
      "2       OkCupid          Hinge          Weekly          2 hours   \n",
      "3       OkCupid        OkCupid           Daily       30 minutes   \n",
      "4       OkCupid        OkCupid          Weekly          2 hours   \n",
      "..          ...            ...             ...              ...   \n",
      "495      Tinder          Hinge          Weekly        1.5 hours   \n",
      "496     OkCupid         Tinder           Daily          2 hours   \n",
      "497     OkCupid          Hinge         Monthly          2 hours   \n",
      "498      Tinder          Hinge           Daily        1.5 hours   \n",
      "499     OkCupid          Hinge          Weekly        1.5 hours   \n",
      "\n",
      "      Reason_for_Using Satisfaction               Challenges  \\\n",
      "0    Finding a Partner            4          Safety Concerns   \n",
      "1        Casual Dating            5             Time-Wasting   \n",
      "2        Casual Dating            4          Safety Concerns   \n",
      "3           Casual Fun            3  Lack of Genuine Matches   \n",
      "4           Casual Fun            4          Safety Concerns   \n",
      "..                 ...          ...                      ...   \n",
      "495      Casual Dating            2  Lack of Genuine Matches   \n",
      "496         Casual Fun            1             Time-Wasting   \n",
      "497         Casual Fun            2  Lack of Genuine Matches   \n",
      "498      Casual Dating            3  Lack of Genuine Matches   \n",
      "499         Casual Fun            2             Time-Wasting   \n",
      "\n",
      "       Desired_Features Preferred_Communication  \\\n",
      "0           Audio Calls             Video Calls   \n",
      "1           Video Calls                    Text   \n",
      "2     Detailed Profiles                    Text   \n",
      "3    AI Recommendations             Voice Notes   \n",
      "4           Video Calls                    Text   \n",
      "..                  ...                     ...   \n",
      "495         Audio Calls             Voice Notes   \n",
      "496         Video Calls             Video Calls   \n",
      "497         Video Calls             Voice Notes   \n",
      "498   Detailed Profiles                    Text   \n",
      "499  AI Recommendations             Video Calls   \n",
      "\n",
      "                       Partner_Priorities  \n",
      "0       Values > Personality > Appearance  \n",
      "1       Values > Personality > Appearance  \n",
      "2       Values > Personality > Appearance  \n",
      "3        Personality > Interests > Values  \n",
      "4    Appearance > Interests > Personality  \n",
      "..                                    ...  \n",
      "495      Personality > Interests > Values  \n",
      "496     Values > Personality > Appearance  \n",
      "497  Appearance > Interests > Personality  \n",
      "498  Appearance > Interests > Personality  \n",
      "499  Appearance > Interests > Personality  \n",
      "\n",
      "[500 rows x 16 columns]\n"
     ]
    }
   ],
   "source": [
    "version_one['Gender'] = version_one['Gender'].str.lower()\n",
    "print(version_one)"
   ]
  },
  {
   "cell_type": "code",
   "execution_count": null,
   "id": "8cbee37f-33aa-42d7-b75a-f985ac59161f",
   "metadata": {},
   "outputs": [
    {
     "data": {
      "image/png": "[encoded data removed]",
      "text/plain": [
       "<Figure size 600x400 with 1 Axes>"
      ]
     },
     "metadata": {},
     "output_type": "display_data"
    }
   ],
   "source": [
    "# Create a box plot for \"Age\"\n",
    "plt.figure(figsize=(6, 4))\n",
    "sns.boxplot(x=version_one[\"Age\"])\n",
    "plt.title(\"Box Plot of Age\")\n",
    "plt.show()"
   ]
  },
  {
   "cell_type": "code",
   "execution_count": null,
   "id": "48594e90-0af2-4fb4-abb6-ff92d5b5f379",
   "metadata": {},
   "outputs": [
    {
     "name": "stdout",
     "output_type": "stream",
     "text": [
      "Number of outliers in 'Age': 0\n"
     ]
    }
   ],
   "source": [
    "# Compute Q1 (25th percentile) and Q3 (75th percentile)\n",
    "Q1 = version_one[\"Age\"].quantile(0.25)\n",
    "Q3 = version_one[\"Age\"].quantile(0.75)\n",
    "IQR = Q3 - Q1\n",
    "\n",
    "# Define outlier bounds\n",
    "lower_bound = Q1 - 1.5 * IQR\n",
    "upper_bound = Q3 + 1.5 * IQR\n",
    "\n",
    "# Find outliers\n",
    "outliers = version_one[(version_one[\"Age\"] < lower_bound) | (version_one[\"Age\"] > upper_bound)]\n",
    "print(f\"Number of outliers in 'Age': {len(outliers)}\")\n"
   ]
  },
  {
   "cell_type": "code",
   "execution_count": null,
   "id": "e596805d-ccb6-479e-9fd3-3f4f521ebd7a",
   "metadata": {},
   "outputs": [
    {
     "name": "stdout",
     "output_type": "stream",
     "text": [
      "          User_ID       Age\n",
      "User_ID  1.000000  0.075403\n",
      "Age      0.075403  1.000000\n"
     ]
    },
    {
     "data": {
      "image/png": "[encoded data removed]",
      "text/plain": [
       "<Figure size 800x600 with 2 Axes>"
      ]
     },
     "metadata": {},
     "output_type": "display_data"
    }
   ],
   "source": [
    "corr_matrix = version_one.corr(numeric_only='True')\n",
    "\n",
    "# Display the correlation matrix\n",
    "print(corr_matrix)\n",
    "\n",
    "# Plotting the correlation matrix as a heatmap\n",
    "plt.figure(figsize=(8, 6))\n",
    "sns.heatmap(corr_matrix, annot=True, cmap='Blues', fmt='.2f')\n",
    "plt.title('Correlation Matrix')\n",
    "plt.show()\n"
   ]
  },
  {
   "cell_type": "code",
   "execution_count": null,
   "id": "3bd0f532-76be-4285-99d6-50a0b118d3a9",
   "metadata": {},
   "outputs": [],
   "source": [
    "pivot_table = version_one.pivot_table(\n",
    "    index=\"Gender\", \n",
    "    columns=\"Location\", \n",
    "    values=\"Age\", \n",
    "    aggfunc=[\"mean\"], \n",
    "    observed=False  # Explicitly set this to avoid warning\n",
    ")\n"
   ]
  },
  {
   "cell_type": "code",
   "execution_count": null,
   "id": "cd4c273d-57ec-4a10-b3a3-6531faa28b0b",
   "metadata": {},
   "outputs": [
    {
     "name": "stdout",
     "output_type": "stream",
     "text": [
      "                 mean                                                         \\\n",
      "Location    Bangalore    Chennai      Delhi  Hyderabad    Kolkata     Mumbai   \n",
      "Gender                                                                         \n",
      "female      20.882353  20.304348  22.333333  21.111111  21.423077  21.000000   \n",
      "male        21.903226  21.882353  21.538462  21.952381  21.518519  21.363636   \n",
      "non-binary  21.809524  21.730769  22.600000  21.840000  20.913043  21.611111   \n",
      "\n",
      "                       \n",
      "Location         Pune  \n",
      "Gender                 \n",
      "female      21.354839  \n",
      "male        22.437500  \n",
      "non-binary  22.050000  \n"
     ]
    }
   ],
   "source": [
    "print(pivot_table)"
   ]
  },
  {
   "cell_type": "code",
   "execution_count": null,
   "id": "9d73d745-1895-4442-b37d-8fa808ee4afc",
   "metadata": {},
   "outputs": [
    {
     "name": "stderr",
     "output_type": "stream",
     "text": [
      "C:\\Users\\HP\\AppData\\Local\\Temp\\ipykernel_14432\\3272720278.py:1: FutureWarning: The default of observed=False is deprecated and will be changed to True in a future version of pandas. Pass observed=False to retain current behavior or observed=True to adopt the future default and silence this warning.\n",
      "  usage_counts = version_one.groupby([\"Age\", \"Primary_App\"]).size().unstack()\n"
     ]
    },
    {
     "data": {
      "image/png": "[encoded data removed]",
      "text/plain": [
       "<Figure size 800x600 with 1 Axes>"
      ]
     },
     "metadata": {},
     "output_type": "display_data"
    }
   ],
   "source": [
    "usage_counts = version_one.groupby([\"Age\", \"Primary_App\"]).size().unstack()\n",
    "\n",
    "# Plot stacked bar chart\n",
    "usage_counts.plot(kind=\"bar\", stacked=True, figsize=(8, 6), colormap=\"coolwarm\")\n",
    "\n",
    "# Customize the chart\n",
    "plt.title(\"Primary App Usage by Age Group\")\n",
    "plt.xlabel(\"Age Group\")\n",
    "plt.ylabel(\"Number of Users\")\n",
    "plt.legend(title=\"Primary App\")\n",
    "plt.xticks(rotation=0) \n",
    "\n",
    "\n",
    "# Show the plot\n",
    "plt.show()"
   ]
  },
  {
   "cell_type": "code",
   "execution_count": 11,
   "id": "a084502d-3834-468f-9ca1-54c433d1ed72",
   "metadata": {},
   "outputs": [],
   "source": [
    "version_one.to_csv('version_one.csv', index=False)\n"
   ]
  },
  {
   "cell_type": "code",
   "execution_count": null,
   "id": "25a4be71",
   "metadata": {},
   "outputs": [],
   "source": []
  }
 ],
 "metadata": {
  "kernelspec": {
   "display_name": "Python 3 (ipykernel)",
   "language": "python",
   "name": "python3"
  },
  "language_info": {
   "codemirror_mode": {
    "name": "ipython",
    "version": 3
   },
   "file_extension": ".py",
   "mimetype": "text/x-python",
   "name": "python",
   "nbconvert_exporter": "python",
   "pygments_lexer": "ipython3",
   "version": "3.12.8"
  }
 },
 "nbformat": 4,
 "nbformat_minor": 5
}
